{
 "cells": [
  {
   "cell_type": "code",
   "execution_count": 39,
   "metadata": {},
   "outputs": [
    {
     "name": "stdout",
     "output_type": "stream",
     "text": [
      "  InvoiceNo  Quantity          InvoiceDate  Price  CustomerID    Country\n",
      "0    540267        96  2011-01-06 11:12:00   0.72     12415.0  Australia\n",
      "1    567085        16  2011-09-16 12:38:00   0.83     12434.0  Australia\n",
      "2    540267        36  2011-01-06 11:12:00   1.85     12415.0  Australia\n",
      "3    558537        48  2011-06-30 12:06:00   1.25     12424.0  Australia\n",
      "4    556917       144  2011-06-15 13:37:00   2.49     12415.0  Australia\n"
     ]
    }
   ],
   "source": [
    "import pandas as pd\n",
    "import mysql.connector\n",
    "from mysql.connector import Error\n",
    "\n",
    "# Load the dataset\n",
    "file_path = \"../data/final_dataset.csv\"  # Path to your dataset\n",
    "df = pd.read_csv(file_path)\n",
    "\n",
    "# Preview the data\n",
    "print(df.head())"
   ]
  },
  {
   "cell_type": "code",
   "execution_count": 40,
   "metadata": {},
   "outputs": [
    {
     "name": "stdout",
     "output_type": "stream",
     "text": [
      "<class 'pandas.core.frame.DataFrame'>\n",
      "Index: 5184 entries, 0 to 5561\n",
      "Data columns (total 6 columns):\n",
      " #   Column       Non-Null Count  Dtype  \n",
      "---  ------       --------------  -----  \n",
      " 0   InvoiceNo    5184 non-null   object \n",
      " 1   Quantity     5184 non-null   int64  \n",
      " 2   InvoiceDate  5184 non-null   object \n",
      " 3   Price        5184 non-null   float64\n",
      " 4   CustomerID   5184 non-null   int64  \n",
      " 5   Country      5184 non-null   object \n",
      "dtypes: float64(1), int64(2), object(3)\n",
      "memory usage: 283.5+ KB\n",
      "None\n"
     ]
    }
   ],
   "source": [
    "# Handle missing values\n",
    "df.dropna(subset=['InvoiceNo', 'Quantity', 'Price', 'CustomerID', 'Country'], inplace=True)\n",
    "\n",
    "# Convert 'InvoiceDate' to date-only format\n",
    "df['InvoiceDate'] = pd.to_datetime(df['InvoiceDate']).dt.date\n",
    "\n",
    "# Ensure data types are consistent\n",
    "df['InvoiceNo'] = df['InvoiceNo'].astype(str)\n",
    "df['Quantity'] = df['Quantity'].astype(int)\n",
    "df['Price'] = df['Price'].astype(float)\n",
    "df['CustomerID'] = df['CustomerID'].astype(int)\n",
    "\n",
    "# Preview the cleaned data\n",
    "print(df.info())"
   ]
  },
  {
   "cell_type": "code",
   "execution_count": 62,
   "metadata": {},
   "outputs": [
    {
     "name": "stdout",
     "output_type": "stream",
     "text": [
      "Connected to MySQL database: ecommerce_analysis\n",
      "Data loaded successfully into the table!\n",
      "MySQL connection closed.\n"
     ]
    }
   ],
   "source": [
    "import os\n",
    "from dotenv import load_dotenv\n",
    "import mysql.connector\n",
    "from mysql.connector import Error\n",
    "\n",
    "# Load environment variables from .env file\n",
    "load_dotenv()\n",
    "\n",
    "# Fetch values from the .env file\n",
    "db_host = os.getenv('DB_HOST')\n",
    "db_user = os.getenv('DB_USER')\n",
    "db_password = os.getenv('DB_PASSWORD')\n",
    "db_name = os.getenv('DB_NAME')\n",
    "\n",
    "# Function to connect and load data into MySQL\n",
    "def load_data_to_mysql(df, host, user, password, database, table_name):\n",
    "    try:\n",
    "        # Establish connection to MySQL\n",
    "        connection = mysql.connector.connect(\n",
    "            host=host,\n",
    "            user=user,\n",
    "            password=password,\n",
    "            database=database\n",
    "        )\n",
    "        \n",
    "        if connection.is_connected():\n",
    "            print(f\"Connected to MySQL database: {database}\")\n",
    "            cursor = connection.cursor()\n",
    "\n",
    "            # Insert data into the specified table\n",
    "            for _, row in df.iterrows():\n",
    "                insert_query = f\"\"\"\n",
    "                INSERT INTO {table_name} (InvoiceNo, Quantity, InvoiceDate, Price, CustomerID, Country)\n",
    "                VALUES (%s, %s, %s, %s, %s, %s)\n",
    "                \"\"\"\n",
    "                data_tuple = (\n",
    "                    row['InvoiceNo'], \n",
    "                    row['Quantity'], \n",
    "                    row['InvoiceDate'], \n",
    "                    row['Price'], \n",
    "                    row['CustomerID'], \n",
    "                    row['Country']\n",
    "                )\n",
    "                try:\n",
    "                    cursor.execute(insert_query, data_tuple)\n",
    "                except Error as insert_error:\n",
    "                    print(f\"Error inserting row {row['InvoiceNo']}: {insert_error}\")\n",
    "            \n",
    "            # Commit the transaction\n",
    "            connection.commit()\n",
    "            print(\"Data loaded successfully into the table!\")\n",
    "\n",
    "    except Error as e:\n",
    "        print(f\"Connection error: {e}\")\n",
    "\n",
    "    finally:\n",
    "        if connection.is_connected():\n",
    "            cursor.close()\n",
    "            connection.close()\n",
    "            print(\"MySQL connection closed.\")\n",
    "\n",
    "# Call the function to load the DataFrame `df` into the MySQL table\n",
    "load_data_to_mysql(\n",
    "    df=df,\n",
    "    host=db_host,\n",
    "    user=db_user,\n",
    "    password=db_password,\n",
    "    database=db_name,\n",
    "    table_name='e_commerce_data'\n",
    ")\n"
   ]
  },
  {
   "cell_type": "code",
   "execution_count": 63,
   "metadata": {},
   "outputs": [],
   "source": [
    "df.to_csv(\"../data/final_dataset.csv\")"
   ]
  }
 ],
 "metadata": {
  "kernelspec": {
   "display_name": "myvenv",
   "language": "python",
   "name": "python3"
  },
  "language_info": {
   "codemirror_mode": {
    "name": "ipython",
    "version": 3
   },
   "file_extension": ".py",
   "mimetype": "text/x-python",
   "name": "python",
   "nbconvert_exporter": "python",
   "pygments_lexer": "ipython3",
   "version": "3.11.4"
  }
 },
 "nbformat": 4,
 "nbformat_minor": 2
}
